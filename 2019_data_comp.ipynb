{
 "cells": [
  {
   "cell_type": "markdown",
   "metadata": {},
   "source": [
    "# "
   ]
  },
  {
   "cell_type": "code",
   "execution_count": 8,
   "metadata": {},
   "outputs": [],
   "source": [
    "import os\n",
    "import pandas as pd"
   ]
  },
  {
   "cell_type": "code",
   "execution_count": 12,
   "metadata": {},
   "outputs": [],
   "source": [
    "data_201306 = os.path.join('resources', '201306-citibike-tripdata.csv')\n",
    "data_201901 = os.path.join('resources', '201901-citibike-tripdata.csv')\n",
    "data_201902 = os.path.join('resources', '201902-citibike-tripdata.csv')\n",
    "data_201903 = os.path.join('resources', '201903-citibike-tripdata.csv')\n",
    "data_201904 = os.path.join('resources', '201904-citibike-tripdata.csv')\n",
    "data_201905 = os.path.join('resources', '201905-citibike-tripdata.csv')\n",
    "data_201906 = os.path.join('resources', '201906-citibike-tripdata.csv')\n",
    "data_201907 = os.path.join('resources', '201907-citibike-tripdata.csv')\n",
    "data_201908 = os.path.join('resources', '201908-citibike-tripdata.csv')\n",
    "data_201909 = os.path.join('resources', '201909-citibike-tripdata.csv')\n",
    "data_201910 = os.path.join('resources', '201910-citibike-tripdata.csv')\n",
    "data_201911 = os.path.join('resources', '201911-citibike-tripdata.csv')\n",
    "data_201912 = os.path.join('resources', '201912-citibike-tripdata.csv')\n",
    "data_202001 = os.path.join('resources', '202001-citibike-tripdata.csv')"
   ]
  },
  {
   "cell_type": "code",
   "execution_count": 13,
   "metadata": {},
   "outputs": [],
   "source": [
    "data_201306_df = pd.read_csv(data_201306)\n",
    "data_201901_df = pd.read_csv(data_201901)\n",
    "data_201902_df = pd.read_csv(data_201902)\n",
    "data_201903_df = pd.read_csv(data_201903)\n",
    "data_201904_df = pd.read_csv(data_201904)\n",
    "data_201905_df = pd.read_csv(data_201905)\n",
    "data_201906_df = pd.read_csv(data_201906)\n",
    "data_201907_df = pd.read_csv(data_201907)\n",
    "data_201908_df = pd.read_csv(data_201908)\n",
    "data_201909_df = pd.read_csv(data_201909)\n",
    "data_201910_df = pd.read_csv(data_201910)\n",
    "data_201911_df = pd.read_csv(data_201911)\n",
    "data_201912_df = pd.read_csv(data_201912)\n",
    "data_202001_df = pd.read_csv(data_202001)"
   ]
  },
  {
   "cell_type": "code",
   "execution_count": 14,
   "metadata": {},
   "outputs": [
    {
     "data": {
      "text/plain": [
       "Index(['tripduration', 'starttime', 'stoptime', 'start station id',\n",
       "       'start station name', 'start station latitude',\n",
       "       'start station longitude', 'end station id', 'end station name',\n",
       "       'end station latitude', 'end station longitude', 'bikeid', 'usertype',\n",
       "       'birth year', 'gender'],\n",
       "      dtype='object')"
      ]
     },
     "execution_count": 14,
     "metadata": {},
     "output_type": "execute_result"
    }
   ],
   "source": [
    "#data_201306_df.head()\n",
    "#data_201910_df.head()\n",
    "data_201910_df.columns"
   ]
  },
  {
   "cell_type": "code",
   "execution_count": 15,
   "metadata": {},
   "outputs": [],
   "source": [
    "files = [data_201306_df,data_201901_df, data_201902_df, data_201903_df, data_201904_df, data_201905_df,data_201906_df, data_201907_df, data_201908_df, data_201909_df, data_201910_df, data_201911_df, data_201912_df, data_202001_df]\n",
    "df = pd.concat(files)"
   ]
  },
  {
   "cell_type": "code",
   "execution_count": 16,
   "metadata": {},
   "outputs": [],
   "source": [
    "#export\n",
    "df.to_csv('citibike_data.csv', index=False)"
   ]
  },
  {
   "cell_type": "code",
   "execution_count": null,
   "metadata": {},
   "outputs": [],
   "source": []
  }
 ],
 "metadata": {
  "kernelspec": {
   "display_name": "Python 3",
   "language": "python",
   "name": "python3"
  },
  "language_info": {
   "codemirror_mode": {
    "name": "ipython",
    "version": 3
   },
   "file_extension": ".py",
   "mimetype": "text/x-python",
   "name": "python",
   "nbconvert_exporter": "python",
   "pygments_lexer": "ipython3",
   "version": "3.6.9"
  }
 },
 "nbformat": 4,
 "nbformat_minor": 2
}
